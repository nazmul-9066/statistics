{
 "cells": [
  {
   "cell_type": "code",
   "execution_count": 15,
   "id": "4ddd896e-f771-4341-9ce0-12fd065f73fc",
   "metadata": {},
   "outputs": [],
   "source": [
    "def ranking(dataPoints):\n",
    "    rankData = {}\n",
    "    sortData = sorted(dataPoints)\n",
    "    \n",
    "    for i in range(len(dataPoints)):\n",
    "        for j in range(len(sortData)):\n",
    "            if dataPoints[i] == sortData[j]:\n",
    "                rankData[dataPoints[i]] = j+1\n",
    "                \n",
    "    return rankData"
   ]
  },
  {
   "cell_type": "code",
   "execution_count": 17,
   "id": "3b01976d-1de0-44ca-b3f3-f7068d9b3e07",
   "metadata": {},
   "outputs": [],
   "source": [
    "def spearmanFormula(x_data, y_data, relation_x, relation_y, numbers):\n",
    "    difference_ranking = 0\n",
    "    for i in range(numbers):\n",
    "        if relation_x[x_data[i]] != relation_y[y_data[i]]:\n",
    "            difference_ranking = difference_ranking + ((relation_x[x_data[i]] - relation_y[y_data[i]])**2)\n",
    "            \n",
    "    return (6* difference_ranking) / (numbers**3 - numbers)"
   ]
  },
  {
   "cell_type": "code",
   "execution_count": 18,
   "id": "404708d0-2f54-4a19-946b-db6351cefbfb",
   "metadata": {},
   "outputs": [
    {
     "name": "stdin",
     "output_type": "stream",
     "text": [
      " 10\n",
      " 1 4 3 6 7 9 8 2 4 6 \n",
      " 1 2 3 4 5 6 7 8 9 10\n"
     ]
    }
   ],
   "source": [
    "input_numbers = int(float(input()))\n",
    "\n",
    "input_x_data = list(map(float, input().split()))\n",
    "input_y_data = list(map(float, input().split()))\n",
    "\n"
   ]
  },
  {
   "cell_type": "code",
   "execution_count": 19,
   "id": "2226167c-0c6e-455d-a913-4096af113957",
   "metadata": {},
   "outputs": [],
   "source": [
    "ranking_x_data = ranking(input_x_data)\n",
    "ranking_y_data = ranking(input_y_data)"
   ]
  },
  {
   "cell_type": "code",
   "execution_count": 20,
   "id": "ad910480-50b2-4cea-852f-9dd9701c8306",
   "metadata": {},
   "outputs": [],
   "source": [
    "spearman = spearmanFormula(input_x_data, input_y_data, ranking_x_data, ranking_y_data, input_numbers)"
   ]
  },
  {
   "cell_type": "code",
   "execution_count": 21,
   "id": "b59d8d21-c039-4183-b059-c2b976aa2be8",
   "metadata": {},
   "outputs": [
    {
     "name": "stdout",
     "output_type": "stream",
     "text": [
      "0.345\n"
     ]
    }
   ],
   "source": [
    "print(round(1 - spearman, 3))"
   ]
  },
  {
   "cell_type": "code",
   "execution_count": null,
   "id": "dc3dd544-af9a-437c-8b33-f3f602deebe7",
   "metadata": {},
   "outputs": [],
   "source": []
  },
  {
   "cell_type": "code",
   "execution_count": null,
   "id": "8408d8e3-ce05-445f-8c50-fce62989343a",
   "metadata": {},
   "outputs": [],
   "source": []
  }
 ],
 "metadata": {
  "kernelspec": {
   "display_name": "Python 3 (ipykernel)",
   "language": "python",
   "name": "python3"
  },
  "language_info": {
   "codemirror_mode": {
    "name": "ipython",
    "version": 3
   },
   "file_extension": ".py",
   "mimetype": "text/x-python",
   "name": "python",
   "nbconvert_exporter": "python",
   "pygments_lexer": "ipython3",
   "version": "3.7.13"
  }
 },
 "nbformat": 4,
 "nbformat_minor": 5
}
