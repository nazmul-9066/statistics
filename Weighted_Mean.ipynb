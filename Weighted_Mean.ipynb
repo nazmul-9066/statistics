{
 "cells": [
  {
   "cell_type": "code",
   "execution_count": 2,
   "id": "9c43762a-595e-4811-a7ee-5fbaab0e4e6f",
   "metadata": {},
   "outputs": [
    {
     "name": "stdin",
     "output_type": "stream",
     "text": [
      "Enter the size of the Input Number:  10\n",
      " 1 5 6 7 2 3 1 4 5 9 \n",
      " 2 1 3 2 8 4 2 1 9 1 \n"
     ]
    }
   ],
   "source": [
    "input_number_size = int(input(\"Enter the size of the Input Number: \"))\n",
    "number_list_generate = list(map(int, input().split()))\n",
    "weight_list_generate = list(map(int,input().split()))"
   ]
  },
  {
   "cell_type": "code",
   "execution_count": 3,
   "id": "6671e00c-322c-423e-8c73-1a0c858fe8c9",
   "metadata": {},
   "outputs": [
    {
     "name": "stdout",
     "output_type": "stream",
     "text": [
      "Number list: [1, 5, 6, 7, 2, 3, 1, 4, 5, 9]\n",
      "Weight list :  [2, 1, 3, 2, 8, 4, 2, 1, 9, 1]\n"
     ]
    }
   ],
   "source": [
    "print(\"Number list:\", number_list_generate)\n",
    "print(\"Weight list : \", weight_list_generate)"
   ]
  },
  {
   "cell_type": "code",
   "execution_count": 10,
   "id": "134bc121-41d7-4471-a8f7-6ed8569d0870",
   "metadata": {},
   "outputs": [],
   "source": [
    "sumation_of_total_items = 0\n",
    "for i in range(input_number_size):\n",
    "    sumation_of_total_items = sumation_of_total_items + (number_list_generate[i]*weight_list_generate[i])\n"
   ]
  },
  {
   "cell_type": "code",
   "execution_count": 11,
   "id": "d21b5452-128a-4ade-8812-c24c01c4371e",
   "metadata": {},
   "outputs": [
    {
     "name": "stdout",
     "output_type": "stream",
     "text": [
      "127\n"
     ]
    }
   ],
   "source": [
    "print(sumation_of_total_items)"
   ]
  },
  {
   "cell_type": "code",
   "execution_count": 12,
   "id": "e1fa1477-8d23-442c-a69e-63b223c2e035",
   "metadata": {},
   "outputs": [
    {
     "name": "stdout",
     "output_type": "stream",
     "text": [
      "3.8\n"
     ]
    }
   ],
   "source": [
    "print(round(sumation_of_total_items/ sum(weight_list_generate),1))"
   ]
  },
  {
   "cell_type": "code",
   "execution_count": null,
   "id": "52e9c166-b34b-4bb9-991f-a14b9aa04142",
   "metadata": {},
   "outputs": [],
   "source": []
  }
 ],
 "metadata": {
  "kernelspec": {
   "display_name": "Python 3 (ipykernel)",
   "language": "python",
   "name": "python3"
  },
  "language_info": {
   "codemirror_mode": {
    "name": "ipython",
    "version": 3
   },
   "file_extension": ".py",
   "mimetype": "text/x-python",
   "name": "python",
   "nbconvert_exporter": "python",
   "pygments_lexer": "ipython3",
   "version": "3.7.13"
  }
 },
 "nbformat": 4,
 "nbformat_minor": 5
}
