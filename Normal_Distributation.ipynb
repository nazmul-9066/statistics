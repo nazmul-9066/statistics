{
 "cells": [
  {
   "cell_type": "code",
   "execution_count": 1,
   "id": "3f671f8c-86f8-4f52-b29f-fa1456f87880",
   "metadata": {},
   "outputs": [],
   "source": [
    "import math"
   ]
  },
  {
   "cell_type": "code",
   "execution_count": 2,
   "id": "355051bf-013c-48c7-816d-2a172d271c7b",
   "metadata": {},
   "outputs": [],
   "source": [
    "def summation_cummaulative(mean, std, value):\n",
    "    return 0.5 * (1 + math.erf(value -mean) / (std * (2** 0.5)))"
   ]
  },
  {
   "cell_type": "code",
   "execution_count": 3,
   "id": "7ba89185-4249-4eae-9626-a2b8863f5838",
   "metadata": {},
   "outputs": [
    {
     "name": "stdin",
     "output_type": "stream",
     "text": [
      " 1 5 6 9 8 77 55 12 45\n",
      " 5\n",
      " 1 2 3 \n"
     ]
    }
   ],
   "source": [
    "initial_values = list(map(float,input().split()))\n",
    "mean = initial_values[0]\n",
    "standard_deviation = initial_values[1]\n",
    "minimum_number_range = float(input())\n",
    "difference_between_number_range = list(map(float, input().split()))"
   ]
  },
  {
   "cell_type": "code",
   "execution_count": 4,
   "id": "f7d1409d-bfb4-47fe-994f-fa40ad989ceb",
   "metadata": {},
   "outputs": [
    {
     "name": "stdout",
     "output_type": "stream",
     "text": [
      "Initial values is :  [1.0, 5.0, 6.0, 9.0, 8.0, 77.0, 55.0, 12.0, 45.0]\n",
      "Mean values is :  1.0\n",
      "Standard Deviation is :  5.0\n"
     ]
    }
   ],
   "source": [
    "print(\"Initial values is : \", initial_values)\n",
    "print(\"Mean values is : \", mean)\n",
    "print(\"Standard Deviation is : \", standard_deviation)"
   ]
  },
  {
   "cell_type": "code",
   "execution_count": 6,
   "id": "0b8cf1f2-2666-4a21-a44f-b2160700cae0",
   "metadata": {},
   "outputs": [
    {
     "name": "stdout",
     "output_type": "stream",
     "text": [
      "0.571\n"
     ]
    }
   ],
   "source": [
    "print(round(summation_cummaulative(mean, standard_deviation, minimum_number_range), 3))"
   ]
  },
  {
   "cell_type": "code",
   "execution_count": 9,
   "id": "8610d5f7-79ae-476a-8aa2-81feb6d5fcd5",
   "metadata": {},
   "outputs": [
    {
     "name": "stdout",
     "output_type": "stream",
     "text": [
      "0.06\n"
     ]
    }
   ],
   "source": [
    "print(round(summation_cummaulative(mean, standard_deviation,difference_between_number_range[1])-\n",
    "        summation_cummaulative(mean, standard_deviation,difference_between_number_range[0]),3))"
   ]
  },
  {
   "cell_type": "code",
   "execution_count": null,
   "id": "3f91596c-f360-407d-a527-ff3cd6705018",
   "metadata": {},
   "outputs": [],
   "source": []
  }
 ],
 "metadata": {
  "kernelspec": {
   "display_name": "Python 3 (ipykernel)",
   "language": "python",
   "name": "python3"
  },
  "language_info": {
   "codemirror_mode": {
    "name": "ipython",
    "version": 3
   },
   "file_extension": ".py",
   "mimetype": "text/x-python",
   "name": "python",
   "nbconvert_exporter": "python",
   "pygments_lexer": "ipython3",
   "version": "3.7.13"
  }
 },
 "nbformat": 4,
 "nbformat_minor": 5
}
