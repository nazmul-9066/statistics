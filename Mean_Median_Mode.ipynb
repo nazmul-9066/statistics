{
 "cells": [
  {
   "cell_type": "code",
   "execution_count": 4,
   "id": "d6ce3377-9927-464f-a099-82d59d33e85c",
   "metadata": {},
   "outputs": [],
   "source": [
    "#Module input \n",
    "import numpy as np\n",
    "from scipy import stats"
   ]
  },
  {
   "cell_type": "code",
   "execution_count": 12,
   "id": "b6b86c83-f44b-42f0-a904-723cd344e4a8",
   "metadata": {
    "tags": []
   },
   "outputs": [
    {
     "name": "stdin",
     "output_type": "stream",
     "text": [
      "Enter The size of the input Number 10\n",
      " 1 2 2 3 4 5 6 7 8 9\n"
     ]
    }
   ],
   "source": [
    "input_number_size = int(input(\"Enter The size of the input Number\"))\n",
    "number_list_geberate  = list(map(int, input().split()))\n"
   ]
  },
  {
   "cell_type": "code",
   "execution_count": 13,
   "id": "8a8487b6-f705-4cf7-a66f-71bbc929375a",
   "metadata": {},
   "outputs": [
    {
     "data": {
      "text/plain": [
       "[1, 2, 2, 3, 4, 5, 6, 7, 8, 9]"
      ]
     },
     "execution_count": 13,
     "metadata": {},
     "output_type": "execute_result"
    }
   ],
   "source": [
    "number_list_geberate"
   ]
  },
  {
   "cell_type": "code",
   "execution_count": 19,
   "id": "3790b5ae-339b-4eb4-9ee1-7ca099fcaaa6",
   "metadata": {},
   "outputs": [
    {
     "name": "stdout",
     "output_type": "stream",
     "text": [
      "Mean Value is :  4.7\n",
      "Median Value is :  4.5\n",
      "Mode Value is :  2\n"
     ]
    }
   ],
   "source": [
    "print(\"Mean Value is : \", np.mean(number_list_geberate))\n",
    "print(\"Median Value is : \", np.median(number_list_geberate))\n",
    "print(\"Mode Value is : \", int(stats.mode(number_list_geberate)[0]))"
   ]
  },
  {
   "cell_type": "code",
   "execution_count": null,
   "id": "e4d08d03-567f-4cbb-87fc-e4f1a4db5bfa",
   "metadata": {},
   "outputs": [],
   "source": []
  }
 ],
 "metadata": {
  "kernelspec": {
   "display_name": "Python 3 (ipykernel)",
   "language": "python",
   "name": "python3"
  },
  "language_info": {
   "codemirror_mode": {
    "name": "ipython",
    "version": 3
   },
   "file_extension": ".py",
   "mimetype": "text/x-python",
   "name": "python",
   "nbconvert_exporter": "python",
   "pygments_lexer": "ipython3",
   "version": "3.7.13"
  }
 },
 "nbformat": 4,
 "nbformat_minor": 5
}
