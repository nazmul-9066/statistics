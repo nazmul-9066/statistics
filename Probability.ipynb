{
 "cells": [
  {
   "cell_type": "code",
   "execution_count": 6,
   "id": "23098d9c-fbe5-4e60-aeaf-d8173f526060",
   "metadata": {},
   "outputs": [
    {
     "name": "stdout",
     "output_type": "stream",
     "text": [
      "1 + 1 = 2\n",
      "1 + 2 = 3\n",
      "1 + 3 = 4\n",
      "1 + 4 = 5\n",
      "1 + 5 = 6\n",
      "1 + 6 = 7\n",
      "2 + 1 = 3\n",
      "2 + 2 = 4\n",
      "2 + 3 = 5\n",
      "2 + 4 = 6\n",
      "2 + 5 = 7\n",
      "2 + 6 = 8\n",
      "3 + 1 = 4\n",
      "3 + 2 = 5\n",
      "3 + 3 = 6\n",
      "3 + 4 = 7\n",
      "3 + 5 = 8\n",
      "3 + 6 = 9\n",
      "4 + 1 = 5\n",
      "4 + 2 = 6\n",
      "4 + 3 = 7\n",
      "4 + 4 = 8\n",
      "4 + 5 = 9\n",
      "5 + 1 = 6\n",
      "5 + 2 = 7\n",
      "5 + 3 = 8\n",
      "5 + 4 = 9\n",
      "6 + 1 = 7\n",
      "6 + 2 = 8\n",
      "6 + 3 = 9\n",
      "Probability of :30 + 36 = 0.8333333333333334\n"
     ]
    }
   ],
   "source": [
    "first_dice = [1, 2, 3, 4, 5, 6]\n",
    "second_dice =[1, 2, 3, 4, 5, 6]\n",
    "\n",
    "total_len = len(first_dice) * len(second_dice)\n",
    "initial_probability = 0\n",
    "\n",
    "\n",
    "for i in range(len(first_dice)):\n",
    "    for j in range(len(second_dice)):\n",
    "        if(first_dice[j] + first_dice[i]) <=9:\n",
    "            initial_probability = initial_probability + 1\n",
    "            print(\"{0} + {1} = {2}\".format(first_dice[i],second_dice[j],(first_dice[j] + first_dice[i])))\n",
    "            \n",
    "        \n",
    "final_probability = initial_probability / total_len\n",
    "\n",
    "print(\"Probability of :{0} + {1} = {2}\".format(initial_probability, total_len, final_probability))\n"
   ]
  },
  {
   "cell_type": "code",
   "execution_count": null,
   "id": "80c31bd0-ade5-4c5b-bda4-8ad640dee0e4",
   "metadata": {},
   "outputs": [],
   "source": []
  }
 ],
 "metadata": {
  "kernelspec": {
   "display_name": "Python 3 (ipykernel)",
   "language": "python",
   "name": "python3"
  },
  "language_info": {
   "codemirror_mode": {
    "name": "ipython",
    "version": 3
   },
   "file_extension": ".py",
   "mimetype": "text/x-python",
   "name": "python",
   "nbconvert_exporter": "python",
   "pygments_lexer": "ipython3",
   "version": "3.7.13"
  }
 },
 "nbformat": 4,
 "nbformat_minor": 5
}
