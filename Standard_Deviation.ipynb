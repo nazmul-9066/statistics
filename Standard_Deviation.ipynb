{
 "cells": [
  {
   "cell_type": "code",
   "execution_count": 2,
   "id": "022dc078-8177-41e4-a402-fcd60d427b4d",
   "metadata": {},
   "outputs": [],
   "source": [
    "import math "
   ]
  },
  {
   "cell_type": "code",
   "execution_count": 3,
   "id": "6d429c09-44fc-4227-a33a-d146a6c7c40c",
   "metadata": {},
   "outputs": [],
   "source": [
    "def Mean_calculation(number_list):\n",
    "    return sum(number_list) / len(number_list)"
   ]
  },
  {
   "cell_type": "code",
   "execution_count": 4,
   "id": "8ad8449b-017b-4796-85f4-967c16a118bf",
   "metadata": {},
   "outputs": [],
   "source": [
    "def standard_deviation(number_list, length_of_number_list):\n",
    "    sumation = 0\n",
    "    for i in range(length_of_number_list):\n",
    "        sumation = sumation + (number_list[i] - Mean_calculation(number_list))**2\n",
    "    return math.sqrt(sumation/length_of_number_list)"
   ]
  },
  {
   "cell_type": "code",
   "execution_count": 7,
   "id": "5bea1da6-24f7-4599-bd48-693a1f1668dc",
   "metadata": {},
   "outputs": [
    {
     "name": "stdin",
     "output_type": "stream",
     "text": [
      "Enter the size of the input Number:  4\n",
      "  1 2 3 4\n"
     ]
    }
   ],
   "source": [
    "input_number_size = int(input(\"Enter the size of the input Number: \"))\n",
    "number_list_generate= list(map(int, input().split()))\n"
   ]
  },
  {
   "cell_type": "code",
   "execution_count": 8,
   "id": "45c6e764-54e5-4f90-9b14-ced1f06581a6",
   "metadata": {},
   "outputs": [
    {
     "name": "stdout",
     "output_type": "stream",
     "text": [
      "2.5\n"
     ]
    }
   ],
   "source": [
    "print(Mean_calculation(number_list_generate))"
   ]
  },
  {
   "cell_type": "code",
   "execution_count": 11,
   "id": "d7c87c0c-9eee-4ea1-9439-ddd8498879b5",
   "metadata": {},
   "outputs": [
    {
     "name": "stdout",
     "output_type": "stream",
     "text": [
      "1.1\n"
     ]
    }
   ],
   "source": [
    "print(round(standard_deviation(number_list_generate,input_number_size),1))"
   ]
  },
  {
   "cell_type": "code",
   "execution_count": null,
   "id": "0647487c-9d5c-4668-a042-3184bd0fdb88",
   "metadata": {},
   "outputs": [],
   "source": []
  }
 ],
 "metadata": {
  "kernelspec": {
   "display_name": "Python 3 (ipykernel)",
   "language": "python",
   "name": "python3"
  },
  "language_info": {
   "codemirror_mode": {
    "name": "ipython",
    "version": 3
   },
   "file_extension": ".py",
   "mimetype": "text/x-python",
   "name": "python",
   "nbconvert_exporter": "python",
   "pygments_lexer": "ipython3",
   "version": "3.7.13"
  }
 },
 "nbformat": 4,
 "nbformat_minor": 5
}
