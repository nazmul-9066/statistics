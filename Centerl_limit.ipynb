{
 "cells": [
  {
   "cell_type": "code",
   "execution_count": 1,
   "id": "69a9f4af-f7b9-4f5a-a8e4-54af7044ac0b",
   "metadata": {},
   "outputs": [],
   "source": [
    "import math"
   ]
  },
  {
   "cell_type": "code",
   "execution_count": 2,
   "id": "ba9c4eed-54ba-4be0-9dbf-7765b6f06079",
   "metadata": {},
   "outputs": [
    {
     "name": "stdin",
     "output_type": "stream",
     "text": [
      " 5\n",
      " 95\n",
      " 4\n",
      " 35\n",
      " 68\n"
     ]
    }
   ],
   "source": [
    "numbers = float(input())\n",
    "mean = float(input())\n",
    "std = float(input())\n",
    "percent_range = float(input())\n",
    "value = float(input())"
   ]
  },
  {
   "cell_type": "code",
   "execution_count": 3,
   "id": "2b2b8f45-34cf-42a0-a9af-456922b373a6",
   "metadata": {},
   "outputs": [],
   "source": [
    "confidence_interval = value *(std / math.sqrt(numbers))"
   ]
  },
  {
   "cell_type": "code",
   "execution_count": 4,
   "id": "f39f0b70-0895-41db-827e-ce20ad384846",
   "metadata": {},
   "outputs": [
    {
     "name": "stdout",
     "output_type": "stream",
     "text": [
      "-26.64\n",
      "216.64\n"
     ]
    }
   ],
   "source": [
    "print(round(mean - confidence_interval,2))\n",
    "print(round(mean + confidence_interval,2))"
   ]
  },
  {
   "cell_type": "code",
   "execution_count": null,
   "id": "7365713a-8515-439f-8a7b-2c3c7e664724",
   "metadata": {},
   "outputs": [],
   "source": []
  }
 ],
 "metadata": {
  "kernelspec": {
   "display_name": "Python 3 (ipykernel)",
   "language": "python",
   "name": "python3"
  },
  "language_info": {
   "codemirror_mode": {
    "name": "ipython",
    "version": 3
   },
   "file_extension": ".py",
   "mimetype": "text/x-python",
   "name": "python",
   "nbconvert_exporter": "python",
   "pygments_lexer": "ipython3",
   "version": "3.7.13"
  }
 },
 "nbformat": 4,
 "nbformat_minor": 5
}
