{
 "cells": [
  {
   "cell_type": "code",
   "execution_count": 8,
   "id": "059c0fff-9917-4dbc-9d71-b675f6a69735",
   "metadata": {},
   "outputs": [],
   "source": [
    "def median_calculation(number_size, numbers):\n",
    "    if number_size %2 == 0:\n",
    "        median = (numbers[int(number_size/2) -1] + numbers[int(number_size/2)])/2\n",
    "        #median = (numbers[int(number_size/2) -1] + numbers[int(number_size/2)]) /2\n",
    "    else:\n",
    "        median = float(numbers[int(number_size/2)])\n",
    "        \n",
    "    return median"
   ]
  },
  {
   "cell_type": "code",
   "execution_count": 2,
   "id": "bc272355-6df4-4952-a920-c04bd7bf0206",
   "metadata": {},
   "outputs": [
    {
     "name": "stdin",
     "output_type": "stream",
     "text": [
      "Enter the number of the size 10\n",
      " 1 22 55 44 7 5 8 9 3 4\n",
      " 1 2 3 4 5 6 7 8 9 10\n"
     ]
    }
   ],
   "source": [
    "number_size = int(input(\"Enter the number of the size\"))\n",
    "numbers = list(map(int, input().split()))\n",
    "number_frequency = list(map(int, input().split()))\n"
   ]
  },
  {
   "cell_type": "code",
   "execution_count": 3,
   "id": "a3d57fa5-f299-4b97-b62f-bee57567a4c9",
   "metadata": {},
   "outputs": [
    {
     "name": "stdout",
     "output_type": "stream",
     "text": [
      "Size of the numbers :  10\n",
      "Numbers :  [1, 22, 55, 44, 7, 5, 8, 9, 3, 4]\n",
      "Numbers Frequency:  [1, 2, 3, 4, 5, 6, 7, 8, 9, 10]\n"
     ]
    }
   ],
   "source": [
    "print(\"Size of the numbers : \", number_size)\n",
    "print(\"Numbers : \", numbers)\n",
    "print(\"Numbers Frequency: \", number_frequency)"
   ]
  },
  {
   "cell_type": "code",
   "execution_count": 4,
   "id": "ad6720e6-1bc7-411b-a13d-e55d73504ffc",
   "metadata": {},
   "outputs": [],
   "source": [
    "sorted_Numbers = []\n",
    "\n",
    "for i in range (len(numbers)):\n",
    "    for j in range (number_frequency[i]):\n",
    "        sorted_Numbers.append(numbers[i])\n",
    "        \n",
    "\n",
    "#print(sorted_Numbers)        \n",
    "sorted_Numbers = sorted(sorted_Numbers)"
   ]
  },
  {
   "cell_type": "code",
   "execution_count": 5,
   "id": "50a878cd-f216-4fef-98e9-88a98d8e67e2",
   "metadata": {},
   "outputs": [
    {
     "name": "stdout",
     "output_type": "stream",
     "text": [
      "Sorted Number Is  [1, 3, 3, 3, 3, 3, 3, 3, 3, 3, 4, 4, 4, 4, 4, 4, 4, 4, 4, 4, 5, 5, 5, 5, 5, 5, 7, 7, 7, 7, 7, 8, 8, 8, 8, 8, 8, 8, 9, 9, 9, 9, 9, 9, 9, 9, 22, 22, 44, 44, 44, 44, 55, 55, 55]\n"
     ]
    }
   ],
   "source": [
    "print(\"Sorted Number Is \", sorted_Numbers)"
   ]
  },
  {
   "cell_type": "code",
   "execution_count": 13,
   "id": "011bb266-6014-455d-bd7b-b28f847372b2",
   "metadata": {},
   "outputs": [],
   "source": [
    "sorted_Numbers_size = int(len(sorted_Numbers))\n",
    "\n",
    "if sorted_Numbers_size %2 == 0:\n",
    "    minimum_data = sorted_Numbers[0:int(sorted_Numbers_size/2)]\n",
    "    maximum_data = sorted_Numbers[int(sorted_Numbers_size/2): sorted_Numbers_size]\n",
    "    \n",
    "else:\n",
    "    minimum_data = sorted_Numbers[0:int(sorted_Numbers_size/2)]\n",
    "    maximum_data = sorted_Numbers[int(sorted_Numbers_size/2)+1 : sorted_Numbers_size]\n",
    "    "
   ]
  },
  {
   "cell_type": "code",
   "execution_count": 10,
   "id": "92b65ed6-c8c6-4f0b-a76a-04b5c293531a",
   "metadata": {},
   "outputs": [],
   "source": [
    "maximum_values = median_calculation(len(maximum_data), maximum_data)\n",
    "minimum_values = median_calculation(len(minimum_data), minimum_data)"
   ]
  },
  {
   "cell_type": "code",
   "execution_count": 12,
   "id": "6d8542b3-3037-417c-9270-fd939ea91412",
   "metadata": {},
   "outputs": [
    {
     "name": "stdout",
     "output_type": "stream",
     "text": [
      "maximum values is : 9.0\n",
      "Minimum values is : 4.0\n"
     ]
    }
   ],
   "source": [
    "print(\"maximum values is :\", maximum_values)\n",
    "print(\"Minimum values is :\", minimum_values)"
   ]
  },
  {
   "cell_type": "code",
   "execution_count": 14,
   "id": "2a7803b0-2b9e-4985-843e-217bab52694a",
   "metadata": {},
   "outputs": [],
   "source": [
    "irq = maximum_values - minimum_values"
   ]
  },
  {
   "cell_type": "code",
   "execution_count": 15,
   "id": "9f872345-3b7d-4c75-9542-9f464294effb",
   "metadata": {},
   "outputs": [
    {
     "name": "stdout",
     "output_type": "stream",
     "text": [
      "IRQ Range is :  5.0\n"
     ]
    }
   ],
   "source": [
    "print(\"IRQ Range is : \", irq)"
   ]
  },
  {
   "cell_type": "code",
   "execution_count": null,
   "id": "9ec1899b-840f-406d-a073-9e97a4a9d48d",
   "metadata": {},
   "outputs": [],
   "source": []
  }
 ],
 "metadata": {
  "kernelspec": {
   "display_name": "Python 3 (ipykernel)",
   "language": "python",
   "name": "python3"
  },
  "language_info": {
   "codemirror_mode": {
    "name": "ipython",
    "version": 3
   },
   "file_extension": ".py",
   "mimetype": "text/x-python",
   "name": "python",
   "nbconvert_exporter": "python",
   "pygments_lexer": "ipython3",
   "version": "3.7.13"
  }
 },
 "nbformat": 4,
 "nbformat_minor": 5
}
