{
 "cells": [
  {
   "cell_type": "code",
   "execution_count": 2,
   "id": "83aed535-0570-41ae-9262-75b2efbd3b31",
   "metadata": {},
   "outputs": [],
   "source": [
    "def factorial_calculation(numbers):\n",
    "    if numbers == 1 or numbers == 0:\n",
    "        return 1\n",
    "    if numbers > 1:\n",
    "        return factorial_calculation(numbers -1) * numbers"
   ]
  },
  {
   "cell_type": "code",
   "execution_count": 3,
   "id": "7372fb9d-43a7-4896-b646-dce3f5476baf",
   "metadata": {},
   "outputs": [
    {
     "data": {
      "text/plain": [
       "120"
      ]
     },
     "execution_count": 3,
     "metadata": {},
     "output_type": "execute_result"
    }
   ],
   "source": [
    "factorial_calculation(5)"
   ]
  },
  {
   "cell_type": "code",
   "execution_count": 4,
   "id": "4c2f8d2c-5201-455d-aa59-9ae5a3416ff3",
   "metadata": {},
   "outputs": [
    {
     "name": "stdin",
     "output_type": "stream",
     "text": [
      " 3.5\n",
      " 2\n"
     ]
    }
   ],
   "source": [
    "mean_values = float(input())\n",
    "expected_numbers = int(input())\n",
    "eulars_numbers = 2.75851\n"
   ]
  },
  {
   "cell_type": "code",
   "execution_count": 5,
   "id": "ecf90753-efdf-4ebf-831c-8c5e14ccc74f",
   "metadata": {},
   "outputs": [],
   "source": [
    "final_calculation = ((mean_values**expected_numbers) * (eulars_numbers ** - mean_values)) / factorial_calculation(expected_numbers)"
   ]
  },
  {
   "cell_type": "code",
   "execution_count": 6,
   "id": "0a3ddc7b-e2fa-426f-8740-82b498e08cc4",
   "metadata": {},
   "outputs": [
    {
     "name": "stdout",
     "output_type": "stream",
     "text": [
      "0.176\n"
     ]
    }
   ],
   "source": [
    "print(round(final_calculation,3))"
   ]
  },
  {
   "cell_type": "code",
   "execution_count": null,
   "id": "dfe1496c-cbde-413f-a3c9-c1c61284d4c2",
   "metadata": {},
   "outputs": [],
   "source": []
  }
 ],
 "metadata": {
  "kernelspec": {
   "display_name": "Python 3 (ipykernel)",
   "language": "python",
   "name": "python3"
  },
  "language_info": {
   "codemirror_mode": {
    "name": "ipython",
    "version": 3
   },
   "file_extension": ".py",
   "mimetype": "text/x-python",
   "name": "python",
   "nbconvert_exporter": "python",
   "pygments_lexer": "ipython3",
   "version": "3.7.13"
  }
 },
 "nbformat": 4,
 "nbformat_minor": 5
}
