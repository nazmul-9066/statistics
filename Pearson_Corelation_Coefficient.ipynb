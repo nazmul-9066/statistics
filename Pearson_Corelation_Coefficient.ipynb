{
 "cells": [
  {
   "cell_type": "code",
   "execution_count": 1,
   "id": "edb8a4cb-4bae-4042-b606-e36e632109ca",
   "metadata": {},
   "outputs": [],
   "source": [
    "import statistics as st"
   ]
  },
  {
   "cell_type": "code",
   "execution_count": 2,
   "id": "c7868ce1-9897-4965-bba3-d1779486049e",
   "metadata": {},
   "outputs": [],
   "source": [
    "def correlation_cofficient(numbers, x_data, y_data):\n",
    "    mean_x_data = st.mean(x_data)\n",
    "    mean_y_data = st.mean(y_data)\n",
    "    \n",
    "    std_x_data = st.pstdev(x_data)\n",
    "    std_y_data = st.pstdev(y_data)\n",
    "    \n",
    "    correlation = 0\n",
    "    for i in range(numbers):\n",
    "        correlation = correlation + (x_data[i] - mean_x_data) * (y_data[i] - mean_y_data)\n",
    "        \n",
    "    return correlation / (numbers * std_x_data * std_y_data)\n",
    "        \n"
   ]
  },
  {
   "cell_type": "code",
   "execution_count": null,
   "id": "53a36de8-9dd6-4c96-95c3-64410c5306e7",
   "metadata": {},
   "outputs": [],
   "source": [
    "input_numbers = int(float(input()))\n",
    "\n",
    "input_x_data = list(map(float, input().split()))\n",
    "input_y_data = list(map(float, input().split()))\n"
   ]
  },
  {
   "cell_type": "code",
   "execution_count": 4,
   "id": "573729f8-59a6-48bc-b3bf-997245f7a528",
   "metadata": {},
   "outputs": [
    {
     "name": "stdout",
     "output_type": "stream",
     "text": [
      "Numbers Length :  10\n",
      "X Datasets is : [2.0, 5.0, 6.0, 8.0, 4.0, 9.0, 7.0, 3.0, 8.0, 1.0]\n",
      "Y Datasets is  [9.0, 7.0, 1.0, 3.0, 6.0, 8.0, 5.0, 4.0, 2.0, 10.0]\n"
     ]
    }
   ],
   "source": [
    "print(\"Numbers Length : \", input_numbers)\n",
    "print(\"X Datasets is :\", input_x_data)\n",
    "print(\"Y Datasets is \", input_y_data)"
   ]
  },
  {
   "cell_type": "code",
   "execution_count": 6,
   "id": "febe1be7-3ef6-4aa7-a88f-38f9178898f1",
   "metadata": {},
   "outputs": [
    {
     "name": "stdout",
     "output_type": "stream",
     "text": [
      "-0.527\n"
     ]
    }
   ],
   "source": [
    "print(round(correlation_cofficient(input_numbers, input_x_data, input_y_data), 3))"
   ]
  },
  {
   "cell_type": "code",
   "execution_count": null,
   "id": "d7e74c2a-6252-4d7c-8599-02f878cdca23",
   "metadata": {},
   "outputs": [],
   "source": []
  }
 ],
 "metadata": {
  "kernelspec": {
   "display_name": "Python 3 (ipykernel)",
   "language": "python",
   "name": "python3"
  },
  "language_info": {
   "codemirror_mode": {
    "name": "ipython",
    "version": 3
   },
   "file_extension": ".py",
   "mimetype": "text/x-python",
   "name": "python",
   "nbconvert_exporter": "python",
   "pygments_lexer": "ipython3",
   "version": "3.7.13"
  }
 },
 "nbformat": 4,
 "nbformat_minor": 5
}
